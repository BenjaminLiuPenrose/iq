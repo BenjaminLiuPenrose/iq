{
 "cells": [
  {
   "cell_type": "markdown",
   "metadata": {},
   "source": [
    "## IQ Seminar -Aug 08, 2018\n",
    "\n",
    "Master of Financial Engineering Program, Baruch College   \n",
    "  \n",
    "<img src=\"http://mfe.baruch.cuny.edu/wp-content/uploads/2014/09/BCCUNYstacked_BLK.jpg\" align = \"left\" width=160>  "
   ]
  },
  {
   "cell_type": "markdown",
   "metadata": {},
   "source": [
    "* Weiyi Chen, weiyi.alan.chen@gmail.com"
   ]
  },
  {
   "cell_type": "markdown",
   "metadata": {},
   "source": [
    "# Data Structure\n",
    "\n",
    "A data structure is a data organization and storage format that enables efficient access and modification. More precisely, a data structure is a collection of data values, the relationships among them, and the functions or operations that can be applied to the data.\n",
    "\n",
    "<img src=\"data_structures.png\">"
   ]
  },
  {
   "cell_type": "markdown",
   "metadata": {},
   "source": [
    "## 1. Array (review)\n",
    "\n",
    "### 1.1 Definition\n",
    "\n",
    "An array is a collection that forms a data structure where objects are stored linearly, one after another in memory.\n",
    "\n",
    "### 1.2 Example\n",
    "\n",
    "A notebook with pages numbered 1 through 12. Each page is an element of the array 'notebook'. You would retrieve information from a page by referring to its number or subscript, i.e., notebook(4) would refer to page 4 of the array notebook.\n",
    "\n",
    "<img src='https://upload.wikimedia.org/wikibooks/en/8/85/SimpleArray.png'>\n",
    "\n",
    "### 1.3 MultiDimentional\n",
    "\n",
    "Arrays can also be multidimensional - instead of accessing an element of a one-dimensional list, elements are accessed by two or more indices, as from a matrix or tensor.\n",
    "\n",
    "<img src='https://upload.wikimedia.org/wikibooks/en/1/16/MultidimensionalArray.png'>\n",
    "\n",
    "### 1.4 Operations\n",
    "\n",
    "- `make-array(integer n): Array`\n",
    "\n",
    "- `get-value-at(Array a, integer index): Element`\n",
    "\n",
    "- `set-value-at(Array a, integer index, Element new-value)`\n",
    "\n",
    "### 1.5 Time Complexity\n",
    "\n",
    "- Arrays guarantee constant time read and write access, O(1)\n",
    "- however many lookup operations (find_min, find_max, find_index) of an instance of an element are linear time, O(n)\n",
    "\n",
    "### 1.6 Bound Check\n",
    "\n",
    "There are three options open:\n",
    "\n",
    "1. Most languages (Pascal, Java, C#) will check the bounds and raise some error condition when an element is accessed which does not exist.\n",
    "2. A few languages (C, C++) will not check the bounds and return or set some arbitrary value when an element outside the valid range is accessed.\n",
    "3. Scripting languages often automatically expand the array when data is written to an index which was not valid until then."
   ]
  },
  {
   "cell_type": "markdown",
   "metadata": {},
   "source": [
    "## 2. Linked Lists (review)\n",
    "\n",
    "<img src='https://upload.wikimedia.org/wikipedia/commons/5/5e/Doubly-linked-list.svg'>\n",
    "\n",
    "### 2.1 Operations & Complexity\n",
    "\n",
    "`get-begin():List Iterator<item-type>`\n",
    "    - Runs in O(1) time.\n",
    "\n",
    "`get-end():List Iterator<item-type>`\n",
    "    - Runs in O(1) time.\n",
    "\n",
    "`prepend(new-item:item-type)`\n",
    "    - Adds a new element at the beginning of a list. \n",
    "    - Runs in O(1) time.\n",
    "\n",
    "`insert-after(iter:List Iterator<item-type>, new-item:item-type)`\n",
    "    - Adds a new element immediately after iter. \n",
    "    - Runs in O(N) time.\n",
    "\n",
    "`remove-first()`\n",
    "    - Removes the element at the beginning of a list. \n",
    "    - Runs in O(1) time.\n",
    "\n",
    "`remove-after(iter:List Iterator<item-type>)`\n",
    "    - Removes the element immediately after iter. \n",
    "    - Runs in O(N) time.\n",
    "\n",
    "`is-empty():Boolean`\n",
    "    - True if there are no elements in the list. \n",
    "    - Runs in O(1) time.\n",
    "\n",
    "`get-size():Integer`\n",
    "    - Returns the number of elements in the list. \n",
    "    - Runs in O(N) time.\n",
    "\n",
    "`get-nth(n:Integer):item-type`\n",
    "    - Returns the nth element in the list, counting from 0. \n",
    "    - Runs in O(N) time.\n",
    "\n",
    "`set-nth(n:Integer, new-value:item-type)`\n",
    "    - Assigns a new value to the nth element in the list, counting from 0. \n",
    "    - Runs in O(N) time."
   ]
  },
  {
   "cell_type": "markdown",
   "metadata": {},
   "source": [
    "### 2.2 Advantages / Disadvantages\n",
    "\n",
    "For the most part, an advantage of an array is a disadvantage of a linked-list, and vice versa.\n",
    "\n",
    "- Array Advantages (vs. Link-Lists)\n",
    "\n",
    "    - Index - Fast access to every element in the array using an index [], not so with linked list where elements in beginning must be traversed to your desired element.\n",
    "    \n",
    "    - Faster - In general, It is faster to access an element in an array than accessing an element in a linked-list.\n",
    "\n",
    "\n",
    "\n",
    "- Link-Lists Advantages (vs. Arrays)\n",
    "\n",
    "    - Resize - Can easily resize the link-list by adding elements without affecting the majority of the other elements in the link-list.\n",
    "    \n",
    "    - Insertion - Can easily insert an element in the middle of a linked-list, (the element is created and then you code pointers to link this element to the other element(s) in the link-list)."
   ]
  },
  {
   "cell_type": "markdown",
   "metadata": {},
   "source": [
    "## 3. Tree"
   ]
  },
  {
   "cell_type": "markdown",
   "metadata": {},
   "source": [
    "### 3.1 Definition\n",
    "\n",
    "##### 3.1.1 Tree\n",
    "A non-empty set one element of which is designated the root of the tree while the remaining elements are partitioned into non-empty sets each of which is a subtree of the root.\n",
    "<img src='https://upload.wikimedia.org/wikipedia/commons/1/10/Bstreesample.jpg'>\n",
    "\n",
    "##### 3.1.2 Depth\n",
    "The depth of a node is the length of the path (or the number of edges) from the root to that node.\n",
    "\n",
    "##### 3.1.3 Height\n",
    "The height of a node is the longest path from that node to its leaves. The height of a tree is the height of the root.\n",
    "\n",
    "##### 3.1.4 Leaf Node\n",
    "A leaf node has no children -- its only path is up to its parent."
   ]
  },
  {
   "cell_type": "markdown",
   "metadata": {},
   "source": [
    "### 3.2 Traversal\n",
    "\n",
    "Many problems require we visit the nodes of a tree in a systematic way: tasks such as counting how many nodes exist or finding the maximum element. Three different methods are possible for binary trees: preorder, postorder, and in-order, which all do the same three things: recursively traverse both the left and right subtrees and visit the current node. The difference is when the algorithm visits the current node:\n",
    "\n",
    "- Preorder: Current node, left subtree, right subtree (DLR)\n",
    "\n",
    "- Postorder: Left subtree, right subtree, current node (LRD)\n",
    "\n",
    "- In-order: Left subtree, current node, right subtree (LDR)\n",
    "\n",
    "- Levelorder: Level by level, from left to right, starting from the root node."
   ]
  },
  {
   "cell_type": "markdown",
   "metadata": {},
   "source": [
    "### 3.3 Practice"
   ]
  },
  {
   "cell_type": "markdown",
   "metadata": {},
   "source": [
    "#### 3.3.1 Tree: Preorder Traversal\n",
    "\n",
    "You are given a pointer to the root of a binary tree; print the values in preorder traversal.\n",
    "\n",
    "You only have to complete the function.\n",
    "\n",
    "https://www.hackerrank.com/challenges/tree-preorder-traversal"
   ]
  },
  {
   "cell_type": "markdown",
   "metadata": {
    "collapsed": true
   },
   "source": [
    "```cpp\n",
    "void Preorder(node *root) {\n",
    "    if (root) {\n",
    "        cout << root->data << ' ';\n",
    "        Preorder(root->left);\n",
    "        Preorder(root->right);\n",
    "    }\n",
    "}\n",
    "```"
   ]
  },
  {
   "cell_type": "markdown",
   "metadata": {},
   "source": [
    "#### 3.3.2 Tree: Postorder Traversal\n",
    "\n",
    "You are given a pointer to the root of a binary tree; print the values in post-order traversal.\n",
    "\n",
    "You only have to complete the function.\n",
    "\n",
    "https://www.hackerrank.com/challenges/tree-postorder-traversal"
   ]
  },
  {
   "cell_type": "markdown",
   "metadata": {
    "collapsed": true
   },
   "source": [
    "```cpp\n",
    "void Postorder(node *root) {\n",
    "    if (root) {\n",
    "        Postorder(root->left);\n",
    "        Postorder(root->right);\n",
    "        cout << root->data << ' ';\n",
    "    }\n",
    "}\n",
    "```"
   ]
  },
  {
   "cell_type": "markdown",
   "metadata": {},
   "source": [
    "#### 3.3.3 Tree: Inorder Traversal\n",
    "\n",
    "You are given a pointer to the root of a binary tree; print the values in in-order traversal.\n",
    "\n",
    "You only have to complete the function.\n",
    "\n",
    "https://www.hackerrank.com/challenges/tree-inorder-traversal"
   ]
  },
  {
   "cell_type": "markdown",
   "metadata": {
    "collapsed": true
   },
   "source": [
    "```cpp\n",
    "void Inorder(node *root) {\n",
    "    if (root) {\n",
    "        Inorder(root->left);\n",
    "        cout << root->data << ' ';\n",
    "        Inorder(root->right);   \n",
    "    }\n",
    "\n",
    "}\n",
    "```"
   ]
  },
  {
   "cell_type": "markdown",
   "metadata": {},
   "source": [
    "#### 3.3.4 Tree: Height of a binary tree\n",
    "\n",
    "The height of a binary tree is the number of nodes on the largest path from root to any leaf. You are given a pointer to the root of a binary tree. Return the height of the tree. \n",
    "You only have to complete the function.\n",
    "\n",
    "https://www.hackerrank.com/challenges/tree-height-of-a-binary-tree"
   ]
  },
  {
   "cell_type": "markdown",
   "metadata": {
    "collapsed": true
   },
   "source": [
    "```cpp\n",
    "int height(node * root)\n",
    "{\n",
    "    if (!root)\n",
    "        return 0;\n",
    "    int leftHeight = height(root->left);\n",
    "    int rightHeight = height(root->right);\n",
    "    return leftHeight > rightHeight ? leftHeight+1 : rightHeight+1;\n",
    "}\n",
    "```"
   ]
  },
  {
   "cell_type": "markdown",
   "metadata": {},
   "source": [
    "#### 3.3.5 Tree : Top View\n",
    "\n",
    "You are given a pointer to the root of a binary tree. Print the top view of the binary tree. \n",
    "You only have to complete the function. \n",
    "\n",
    "https://www.hackerrank.com/challenges/tree-top-view"
   ]
  },
  {
   "cell_type": "markdown",
   "metadata": {
    "collapsed": true
   },
   "source": [
    "```cpp\n",
    "void recur_left(node *root){\n",
    "    if (!root->left) {\n",
    "        cout << root->data << ' ';\n",
    "        return;\n",
    "    }\n",
    "    recur_left(root->left);\n",
    "    cout << root->data << ' ';\n",
    "}\n",
    "\n",
    "void recur_right(node *root){\n",
    "    if (!root->right) {\n",
    "        cout << root->data << ' ';\n",
    "        return;\n",
    "    }\n",
    "    cout << root->data << ' ';\n",
    "    recur_right(root->right);\n",
    "}\n",
    "\n",
    "void top_view(node * root)\n",
    "{\n",
    "    if (!root)\n",
    "        return;\n",
    "    recur_left(root->left);\n",
    "    cout << root->data << ' ';\n",
    "    recur_right(root->right);\n",
    "}\n",
    "```"
   ]
  },
  {
   "cell_type": "markdown",
   "metadata": {},
   "source": [
    "## 4. Hash Tables\n",
    "\n",
    "### 4.1 Definition\n",
    "\n",
    "A hash table, or a hash map, is a data structure that associates keys with values. The primary operation it supports efficiently is a lookup: given a key (e.g. a person's name), find the corresponding value (e.g. that person's telephone number). \n",
    "\n",
    "<img src='https://upload.wikimedia.org/wikipedia/commons/c/c2/HASHTB08.svg'>\n",
    "\n",
    "### 4.2 Operations\n",
    "\n",
    "`make-hash-table(integer n): HashTable`\n",
    "    - Create a hash table with n buckets.\n",
    "\n",
    "`get-value(HashTable h, Comparable key): Element`\n",
    "    - Returns the value of the element for the given key. \n",
    "\n",
    "`set-value(HashTable h, Comparable key, Element new-value)`\n",
    "    - Sets the element of the array for the given key to be equal to new-value.\n",
    "    \n",
    "`remove(HashTable h, Comparable key)`\n",
    "    - Remove the element for the given key from the hash table.\n",
    "    \n",
    "### 4.3 Time Complexity\n",
    "\n",
    "Hash tables are often used to implement associative arrays, sets and caches. Like arrays, hash tables provide constant-time O(1) lookup on average, regardless of the number of items in the table. \n",
    "\n",
    "The (hopefully rare) worst-case lookup time in most hash table schemes is O(n). Compared to other associative array data structures, hash tables are most useful when we need to store a large numbers of data records.\n",
    "\n",
    "### 4.4 Collision resolution\n",
    "\n",
    "If two keys hash to the same index, the corresponding records cannot be stored in the same location. So, if it's already occupied, we must find another location to store the new record, and do it so that we can find it when we look it up later on.\n",
    "\n",
    "#### 4.4.1 Chaining\n",
    "\n",
    "In the simplest chained hash table technique, each slot in the array references a linked list of inserted records that collide to the same slot.\n",
    "\n",
    "<img src='https://upload.wikimedia.org/wikipedia/commons/3/34/HASHTB32.svg'>\n",
    "\n",
    "#### 4.4.2 Open addressing\n",
    "\n",
    "Open addressing hash tables can store the records directly within the array.\n",
    "\n",
    "- linear probing: \n",
    "    - in which the interval between probes is fixed—often at 1,\n",
    "\n",
    "<img src='https://upload.wikimedia.org/wikipedia/commons/9/90/HASHTB12.svg'>\n",
    "\n",
    "- quadratic probing \n",
    "    - in which the interval between probes increases linearly (hence, the indices are described by a quadratic function)\n",
    "- double hashing \n",
    "    - in which the interval between probes is fixed for each record but is computed by another hash function."
   ]
  },
  {
   "cell_type": "markdown",
   "metadata": {},
   "source": [
    "### 4.5 Practice\n",
    "\n",
    "#### 4.5.1 Single Number (repeated)\n",
    "\n",
    "Given an array of integers, every element appears twice except for one. Find that single one.\n",
    "\n",
    "https://leetcode.com/problems/single-number/"
   ]
  },
  {
   "cell_type": "code",
   "execution_count": null,
   "metadata": {
    "collapsed": true
   },
   "outputs": [],
   "source": [
    "class Solution(object):\n",
    "    def singleNumber(self, nums):\n",
    "        \"\"\"\n",
    "        :type nums: List[int]\n",
    "        :rtype: int\n",
    "        \"\"\"\n",
    "        d = {}\n",
    "        for num in nums:\n",
    "            if d.get(num):\n",
    "                d[num] += 1\n",
    "            else:\n",
    "                d[num] = 1\n",
    "                \n",
    "        for key, val in d.iteritems():\n",
    "            if val == 1:\n",
    "                return key"
   ]
  },
  {
   "cell_type": "markdown",
   "metadata": {},
   "source": [
    "#### 4.5.2 Contains Duplicate \n",
    "\n",
    "Given an array of integers, find if the array contains any duplicates. Your function should return true if any value appears at least twice in the array, and it should return false if every element is distinct.\n",
    "\n",
    "https://leetcode.com/problems/contains-duplicate/"
   ]
  },
  {
   "cell_type": "code",
   "execution_count": null,
   "metadata": {
    "collapsed": true
   },
   "outputs": [],
   "source": [
    "class Solution(object):\n",
    "    def containsDuplicate(self, nums):\n",
    "        \"\"\"\n",
    "        :type nums: List[int]\n",
    "        :rtype: bool\n",
    "        \"\"\""
   ]
  },
  {
   "cell_type": "markdown",
   "metadata": {},
   "source": [
    "#### 4.5.3 Happy Number\n",
    "\n",
    "Write an algorithm to determine if a number is \"happy\".\n",
    "\n",
    "A happy number is a number defined by the following process: Starting with any positive integer, replace the number by the sum of the squares of its digits, and repeat the process until the number equals 1 (where it will stay), or it loops endlessly in a cycle which does not include 1. Those numbers for which this process ends in 1 are happy numbers."
   ]
  },
  {
   "cell_type": "code",
   "execution_count": 21,
   "metadata": {
    "collapsed": true
   },
   "outputs": [],
   "source": [
    "class S olution(object):\n",
    "    def isHappy(self, n):\n",
    "        \"\"\"\n",
    "        :type n: int\n",
    "        :rtype: bool\n",
    "        \"\"\""
   ]
  },
  {
   "cell_type": "markdown",
   "metadata": {},
   "source": [
    "### 4.5.4 Contains Duplicate II\n",
    "\n",
    "Given an array of integers and an integer k, find out whether there are two distinct indices i and j in the array such that nums[i] = nums[j] and the difference between i and j is at most k.\n",
    "\n",
    "https://leetcode.com/problems/contains-duplicate-ii/"
   ]
  },
  {
   "cell_type": "code",
   "execution_count": 23,
   "metadata": {
    "collapsed": true
   },
   "outputs": [],
   "source": [
    "class Solution:\n",
    "    # @param {integer[]} nums\n",
    "    # @param {integer} k\n",
    "    # @return {boolean}\n",
    "    def containsNearbyDuplicate(self, nums, k):\n",
    "        numDict = dict()\n",
    "        for x in range(len(nums)):\n",
    "            idx = numDict.get(nums[x])\n",
    "            if idx >= 0 and x - idx <= k:\n",
    "                return True\n",
    "            numDict[nums[x]] = x\n",
    "        return False\n",
    "    \n",
    "# @source: http://bookshadow.com/weblog/2015/05/29/leetcode-contains-duplicate-ii/"
   ]
  },
  {
   "cell_type": "markdown",
   "metadata": {},
   "source": [
    "### 5. Multiplce Choice Sample Questions (CS)\n",
    "\n",
    "\n",
    "#### 5.1 MCQ1\n",
    "If we have a tree of n nodes, how many edges will it have?\n",
    "\n",
    "- 1 \n",
    "- (n*(n-1))/2\n",
    "- (n*(n-1)) \n",
    "- n-1\n",
    "\n",
    "#### 5.2 MCQ2 \n",
    "\n",
    "Which of the following data structures can handle updates and queries in log(n) time on an array?\n",
    "\n",
    "- Linked list \n",
    "- Stack\n",
    "- Tree \n",
    "- Queue\n",
    "\n",
    "#### 5.3 MCQ3\n",
    "\n",
    "Of the following data structures, which has a Last in First Out ordering? In other words, the one that\n",
    "came in last will be the first to be popped.\n",
    "\n",
    "- Queue \n",
    "- Stack\n",
    "- Vector \n",
    "- Array List"
   ]
  },
  {
   "cell_type": "markdown",
   "metadata": {},
   "source": [
    "### 6. MS Questions"
   ]
  },
  {
   "cell_type": "markdown",
   "metadata": {},
   "source": [
    "#### 1. The time complexity to test whether a tree is balanced.\n",
    "\n",
    "Average: $O(logn)$\n",
    "\n",
    "Worst: $O(n)$\n",
    "\n",
    "http://www.geeksforgeeks.org/how-to-determine-if-a-binary-tree-is-balanced/"
   ]
  },
  {
   "cell_type": "markdown",
   "metadata": {},
   "source": [
    "#### 2. The difference between pass by value and pass by reference\n",
    "\n",
    "If I tell you the URL, I'm passing by reference. \n",
    "\n",
    "- You can use that URL to see the same web page I can see. If that page is changed, we both see the changes. \n",
    "- If you delete the URL, all you're doing is destroying your reference to that page - you're not deleting the actual page itself.\n",
    "\n",
    "If I print out the page and give you the printout, I'm passing by value. \n",
    "- Your page is a disconnected copy of the original. You won't see any subsequent changes, and any changes that you make (e.g. scribbling on your printout) will not show up on the original page. \n",
    "- If you destroy the printout, you have actually destroyed your copy of the object - but the original web page remains intact."
   ]
  },
  {
   "cell_type": "markdown",
   "metadata": {},
   "source": [
    "#### 3. Same output?"
   ]
  },
  {
   "cell_type": "markdown",
   "metadata": {},
   "source": [
    "```cpp\n",
    "int func1(int n) {\n",
    "\tint sum = 0;\n",
    "\tint i;\n",
    "\tint j = 5;\n",
    "\tfor (i = 0; i < n; i++) {\n",
    "\t\tj += 2;\n",
    "\t\tsum += j;\n",
    "\t}\n",
    "\treturn sum;\n",
    "}\n",
    "\n",
    "int func2(int n) {\n",
    "\tint sum = 0;\n",
    "\tint i = 0;\n",
    "\tfor (i = 0; i < n; i++) {\n",
    "\t\tsum += (2*(i+1) + 5);\n",
    "\t}\n",
    "\treturn sum;\n",
    "}\n",
    "\n",
    "int main() {\n",
    "\tfor (int n = 0; n < 10; n++)\n",
    "\t\tcout << func1(n) << \", \" << func2(n) << endl;\n",
    "}\n",
    "```"
   ]
  },
  {
   "cell_type": "markdown",
   "metadata": {},
   "source": [
    "#### 4. Output?"
   ]
  },
  {
   "cell_type": "markdown",
   "metadata": {},
   "source": [
    "```cpp\n",
    "#include <iostream>\n",
    "using namespace std;\n",
    "\n",
    "int d = 3;\n",
    "\n",
    "int main() {\n",
    "\tint a, b = 5, c = 5, d = 5;\n",
    "\td = a++ - ++b * c / ::d;\n",
    "\tcout << d << endl;\n",
    "}\n",
    "```"
   ]
  },
  {
   "cell_type": "markdown",
   "metadata": {},
   "source": [
    "#### 5. What is # used?\n",
    "\n",
    "Preprocessor.\n",
    "\n",
    "Preprocessor directives are lines included in the code of programs preceded by a hash sign (#). These lines are not program statements but directives for the preprocessor. The preprocessor examines the code before actual compilation of code begins and resolves all these directives before any code is actually generated by regular statements."
   ]
  },
  {
   "cell_type": "markdown",
   "metadata": {},
   "source": [
    "#### 6. What is void* pointer?\n",
    "\n",
    "- Void pointer: is a pointer to a memory location whose type can be anything: a structure, an int, a float, you name it. \n",
    "- NULL pointer is a pointer to location 0x00 , that is, no location. Pointing to nothing.\n",
    "\n",
    "A pointer to void is a \"generic\" pointer type. A `void*` can be converted to any other pointer type without an explicit cast. You cannot dereference a `void*` or do pointer arithmetic with it; you must convert it to a pointer to an complete data type first."
   ]
  },
  {
   "cell_type": "markdown",
   "metadata": {},
   "source": [
    "#### 7. How many bits are required to store the number 1,000,000?"
   ]
  },
  {
   "cell_type": "code",
   "execution_count": 7,
   "metadata": {},
   "outputs": [
    {
     "data": {
      "text/plain": [
       "19.931568569324174"
      ]
     },
     "execution_count": 7,
     "metadata": {},
     "output_type": "execute_result"
    }
   ],
   "source": [
    "import numpy\n",
    "numpy.log(1000000) / numpy.log(2)"
   ]
  },
  {
   "cell_type": "markdown",
   "metadata": {},
   "source": [
    "#### 8. Time complexity of merge sort\n",
    "\n",
    "$O(nlogn)$"
   ]
  },
  {
   "cell_type": "markdown",
   "metadata": {},
   "source": [
    "#### 9. What is the output?\n",
    "\n",
    "```cpp\n",
    "#include <iostream>\n",
    "#define pow(n) n*n*n\n",
    "using namespace std;\n",
    "\n",
    "\n",
    "int main() {\n",
    "\tcout << 27 / pow(3);\n",
    "}\n",
    "```"
   ]
  },
  {
   "cell_type": "markdown",
   "metadata": {},
   "source": [
    "### 7. Others\n",
    "\n",
    "- Preparation for Written test\n",
    "\n",
    "    - Data Structure: https://en.wikibooks.org/wiki/Data_Structures/\n",
    "\n",
    "    - Green book: http://www.amazon.com/gp/product/1438236662?keywords=zhou%20xinfeng&qid=1444500463&ref_=sr_1_1&sr=8-1\n",
    "\n",
    "<img src='http://t2.gstatic.com/images?q=tbn:ANd9GcT2pqPZ7q8S9ZRAKu9sYX8-8t3B9GRgs35xGxWBteBuKIMBrONi' width=200>"
   ]
  }
 ],
 "metadata": {
  "anaconda-cloud": {},
  "kernelspec": {
   "display_name": "Python 3",
   "language": "python",
   "name": "python3"
  },
  "language_info": {
   "codemirror_mode": {
    "name": "ipython",
    "version": 3
   },
   "file_extension": ".py",
   "mimetype": "text/x-python",
   "name": "python",
   "nbconvert_exporter": "python",
   "pygments_lexer": "ipython3",
   "version": "3.6.3"
  }
 },
 "nbformat": 4,
 "nbformat_minor": 1
}
