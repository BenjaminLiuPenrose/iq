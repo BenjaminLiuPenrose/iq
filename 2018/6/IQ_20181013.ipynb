{
 "cells": [
  {
   "cell_type": "markdown",
   "metadata": {},
   "source": [
    "## IQ Seminar - Oct 13, 2018\n",
    " \n",
    "Master of Financial Engineering Program, Baruch College   \n",
    "  \n",
    "<img src=\"http://mfe.baruch.cuny.edu/wp-content/uploads/2014/09/BCCUNYstacked_BLK.jpg\" align = \"left\" width=160>  "
   ]
  },
  {
   "cell_type": "markdown",
   "metadata": {},
   "source": [
    "Questions from Dan, for MS/CS phone etc.\n",
    "\n",
    "# Definition Questions "
   ]
  },
  {
   "cell_type": "markdown",
   "metadata": {},
   "source": [
    "## 1. Hash Table\n",
    "\n",
    "### 1.1 What is hash tabe?\n",
    "\n",
    "#### Associative array\n",
    "\n",
    "A hash table is a data structure used to implement an associative array that can map keys to values. A hash table uses a hash function to compute an index into an array of buckets, from which the desired value can be found.\n",
    "\n",
    "#### Collisions\n",
    "\n",
    "The hash function will assign each key to a unique bucket, but it is possible that two keys will generate an identical hash causing both keys to point to the same bucket. Instead, most hash table designs assume that hash collisions—different keys that are assigned by the hash function to the same bucket—will occur and must be accommodated in some way. (Chaining, open addressing)\n",
    "\n",
    "<img src='https://upload.wikimedia.org/wikipedia/commons/thumb/b/bf/Hash_table_5_0_1_1_1_1_0_SP.svg/380px-Hash_table_5_0_1_1_1_1_0_SP.svg.png'>\n",
    "\n",
    "#### Average cost / complexity\n",
    "\n",
    "In a well-dimensioned hash table, the average cost for each lookup is independent of the number of elements stored in the table. Many hash table designs also allow arbitrary insertions and deletions of key-value pairs, at constant average cost per operation.\n",
    "\n",
    "### 1.2 How to implement it?"
   ]
  },
  {
   "cell_type": "code",
   "execution_count": 23,
   "metadata": {
    "collapsed": true
   },
   "outputs": [],
   "source": [
    "class HashTable:\n",
    "    def __init__(self):\n",
    "        self.size = 10\n",
    "        self.slots = [None] * self.size\n",
    "        self.data = [None] * self.size\n",
    "        \n",
    "    def put(self,key,data):\n",
    "        hashvalue = self.hashfunction(key,len(self.slots))\n",
    "\n",
    "        if self.slots[hashvalue] == None:\n",
    "            self.slots[hashvalue] = key\n",
    "            self.data[hashvalue] = data\n",
    "        else:\n",
    "            if self.slots[hashvalue] == key:\n",
    "                self.data[hashvalue] = data  #replace\n",
    "            else:\n",
    "                nextslot = self.rehash(hashvalue,self.size)\n",
    "                while self.slots[nextslot] != None and self.slots[nextslot] != key:\n",
    "                    nextslot = self.rehash(nextslot,self.size)\n",
    "                if self.slots[nextslot] == None:\n",
    "                    self.slots[nextslot]=key\n",
    "                    self.data[nextslot]=data\n",
    "                else:\n",
    "                    self.data[nextslot] = data #replace\n",
    "\n",
    "    def hashfunction(self,key,size):\n",
    "        return key%size\n",
    "\n",
    "    def rehash(self,oldhash,size):\n",
    "        return (oldhash+1)%size\n",
    "    \n",
    "    def get(self,key):\n",
    "        startslot = self.hashfunction(key,len(self.slots))\n",
    "\n",
    "        data = None\n",
    "        stop = False\n",
    "        found = False\n",
    "        position = startslot\n",
    "        while self.slots[position] != None and not found and not stop:\n",
    "            if self.slots[position] == key:\n",
    "                found = True\n",
    "                data = self.data[position]\n",
    "            else:\n",
    "                position=self.rehash(position,len(self.slots))\n",
    "                if position == startslot:\n",
    "                    stop = True\n",
    "        return data\n",
    "\n",
    "    def __getitem__(self,key):\n",
    "        return self.get(key)\n",
    "\n",
    "    def __setitem__(self,key,data):\n",
    "        self.put(key,data)"
   ]
  },
  {
   "cell_type": "code",
   "execution_count": 24,
   "metadata": {},
   "outputs": [
    {
     "data": {
      "text/plain": [
       "[20, 31, None, 93, 54, 44, 26, 17, 77, 55]"
      ]
     },
     "execution_count": 24,
     "metadata": {},
     "output_type": "execute_result"
    }
   ],
   "source": [
    "H=HashTable()\n",
    "H[54]=\"cat\"\n",
    "H[26]=\"dog\"\n",
    "H[93]=\"lion\"\n",
    "H[17]=\"tiger\"\n",
    "H[77]=\"bird\"\n",
    "H[31]=\"cow\"\n",
    "H[44]=\"goat\"\n",
    "H[55]=\"pig\"\n",
    "H[20]=\"chicken\"\n",
    "H.slots"
   ]
  },
  {
   "cell_type": "code",
   "execution_count": 25,
   "metadata": {
    "scrolled": true
   },
   "outputs": [
    {
     "data": {
      "text/plain": [
       "['chicken', 'cow', None, 'lion', 'cat', 'goat', 'dog', 'tiger', 'bird', 'pig']"
      ]
     },
     "execution_count": 25,
     "metadata": {},
     "output_type": "execute_result"
    }
   ],
   "source": [
    "H.data"
   ]
  },
  {
   "cell_type": "markdown",
   "metadata": {},
   "source": [
    "## 2. What design pattern do you know?\n",
    "\n",
    "- Design patterns are optimized, reusable solutions to the programming problems that we encounter every day. \n",
    "- A design pattern is not a class or a library that we can simply plug into our system; it's much more than that. It is a template that has to be implemented in the correct situation.\n",
    "\n",
    "### 2.1 Singleton\n",
    "\n",
    "Singleton pattern provides a mechanism to limit the number of the instances of the class to one. Thus the same object is always shared by different parts of the code.\n",
    "\n",
    "<img src='http://www.noesispoint.com/img/DesignPattern/Singleton-Design-Pattern.jpg'>"
   ]
  },
  {
   "cell_type": "code",
   "execution_count": 8,
   "metadata": {},
   "outputs": [],
   "source": [
    "class Singleton(Exception):\n",
    "    '''\n",
    "    Singleton exception(error) class\n",
    "\n",
    "    Because Python has no private constructors we have to find some other way to prevent instantiations. \n",
    "    Our approach is to raise an exception if the Singleton object is already instantiated \n",
    "    (private class attribute __single is other than None). The exception object is the Singleton instance\n",
    "    '''\n",
    "    __single = None\n",
    "    def __init__( self ):\n",
    "        if Singleton.__single:\n",
    "            raise Singleton.__single\n",
    "        Singleton.__single = self \n",
    "\n",
    "# Creation\n",
    "        \n",
    "def Handle( x = Singleton ):\n",
    "\n",
    "    try:\n",
    "        single = x()\n",
    "    except Singleton as s:\n",
    "        single = s\n",
    "    return single \n",
    "\n",
    "# Subclasses\n",
    "\n",
    "'''\n",
    "class Singleton has subclasses Child and Junior as shown. Because there exists an is-a relationship between \n",
    "base class and a subclass there can be only one instance of the whole hierarchy. Singleton or Junior instance \n",
    "can be created with Handle function. The constructor of the Child class takes one - explicit - argument so the \n",
    "instantiation must be done with the direct constructor call or a specialized handle function. \n",
    "'''\n",
    "\n",
    "class Child( Singleton ):\n",
    "    def __init__( self, name ):\n",
    "        Singleton.__init__( self )\n",
    "        self.__name = name\n",
    "    def name( self ):\n",
    "        return self.__name\n",
    "\n",
    "class Junior( Singleton ):\n",
    "    pass"
   ]
  },
  {
   "cell_type": "code",
   "execution_count": 9,
   "metadata": {},
   "outputs": [
    {
     "data": {
      "text/plain": [
       "'Monty'"
      ]
     },
     "execution_count": 9,
     "metadata": {},
     "output_type": "execute_result"
    }
   ],
   "source": [
    "child = Child( 'Monty' )\n",
    "junior = Handle( Junior )\n",
    "junior.name()"
   ]
  },
  {
   "cell_type": "code",
   "execution_count": 10,
   "metadata": {},
   "outputs": [
    {
     "data": {
      "text/plain": [
       "__main__.Child('Monty')"
      ]
     },
     "execution_count": 10,
     "metadata": {},
     "output_type": "execute_result"
    }
   ],
   "source": [
    "single = Handle()\n",
    "single"
   ]
  },
  {
   "cell_type": "code",
   "execution_count": 11,
   "metadata": {},
   "outputs": [
    {
     "ename": "Child",
     "evalue": "Monty",
     "output_type": "error",
     "traceback": [
      "\u001b[0;31m---------------------------------------------------------------------------\u001b[0m",
      "\u001b[0;31mChild\u001b[0m                                     Traceback (most recent call last)",
      "\u001b[0;32m<ipython-input-11-e268d9768b78>\u001b[0m in \u001b[0;36m<module>\u001b[0;34m()\u001b[0m\n\u001b[0;32m----> 1\u001b[0;31m \u001b[0mchild\u001b[0m \u001b[0;34m=\u001b[0m \u001b[0mChild\u001b[0m\u001b[0;34m(\u001b[0m\u001b[0;34m'ABC'\u001b[0m\u001b[0;34m)\u001b[0m\u001b[0;34m\u001b[0m\u001b[0m\n\u001b[0m",
      "\u001b[0;32m<ipython-input-8-4c2f2b72d6f7>\u001b[0m in \u001b[0;36m__init__\u001b[0;34m(self, name)\u001b[0m\n\u001b[1;32m     21\u001b[0m \u001b[0;32mclass\u001b[0m \u001b[0mChild\u001b[0m\u001b[0;34m(\u001b[0m \u001b[0mSingleton\u001b[0m \u001b[0;34m)\u001b[0m\u001b[0;34m:\u001b[0m\u001b[0;34m\u001b[0m\u001b[0m\n\u001b[1;32m     22\u001b[0m     \u001b[0;32mdef\u001b[0m \u001b[0m__init__\u001b[0m\u001b[0;34m(\u001b[0m \u001b[0mself\u001b[0m\u001b[0;34m,\u001b[0m \u001b[0mname\u001b[0m \u001b[0;34m)\u001b[0m\u001b[0;34m:\u001b[0m\u001b[0;34m\u001b[0m\u001b[0m\n\u001b[0;32m---> 23\u001b[0;31m         \u001b[0mSingleton\u001b[0m\u001b[0;34m.\u001b[0m\u001b[0m__init__\u001b[0m\u001b[0;34m(\u001b[0m \u001b[0mself\u001b[0m \u001b[0;34m)\u001b[0m\u001b[0;34m\u001b[0m\u001b[0m\n\u001b[0m\u001b[1;32m     24\u001b[0m         \u001b[0mself\u001b[0m\u001b[0;34m.\u001b[0m\u001b[0m__name\u001b[0m \u001b[0;34m=\u001b[0m \u001b[0mname\u001b[0m\u001b[0;34m\u001b[0m\u001b[0m\n\u001b[1;32m     25\u001b[0m     \u001b[0;32mdef\u001b[0m \u001b[0mname\u001b[0m\u001b[0;34m(\u001b[0m \u001b[0mself\u001b[0m \u001b[0;34m)\u001b[0m\u001b[0;34m:\u001b[0m\u001b[0;34m\u001b[0m\u001b[0m\n",
      "\u001b[0;32m<ipython-input-8-4c2f2b72d6f7>\u001b[0m in \u001b[0;36m__init__\u001b[0;34m(self)\u001b[0m\n\u001b[1;32m      5\u001b[0m     \u001b[0;32mdef\u001b[0m \u001b[0m__init__\u001b[0m\u001b[0;34m(\u001b[0m \u001b[0mself\u001b[0m \u001b[0;34m)\u001b[0m\u001b[0;34m:\u001b[0m\u001b[0;34m\u001b[0m\u001b[0m\n\u001b[1;32m      6\u001b[0m         \u001b[0;32mif\u001b[0m \u001b[0mSingleton\u001b[0m\u001b[0;34m.\u001b[0m\u001b[0m__single\u001b[0m\u001b[0;34m:\u001b[0m\u001b[0;34m\u001b[0m\u001b[0m\n\u001b[0;32m----> 7\u001b[0;31m             \u001b[0;32mraise\u001b[0m \u001b[0mSingleton\u001b[0m\u001b[0;34m.\u001b[0m\u001b[0m__single\u001b[0m\u001b[0;34m\u001b[0m\u001b[0m\n\u001b[0m\u001b[1;32m      8\u001b[0m         \u001b[0mSingleton\u001b[0m\u001b[0;34m.\u001b[0m\u001b[0m__single\u001b[0m \u001b[0;34m=\u001b[0m \u001b[0mself\u001b[0m\u001b[0;34m\u001b[0m\u001b[0m\n\u001b[1;32m      9\u001b[0m \u001b[0;34m\u001b[0m\u001b[0m\n",
      "\u001b[0;32m<ipython-input-8-4c2f2b72d6f7>\u001b[0m in \u001b[0;36mHandle\u001b[0;34m(x)\u001b[0m\n\u001b[1;32m     12\u001b[0m \u001b[0;32mdef\u001b[0m \u001b[0mHandle\u001b[0m\u001b[0;34m(\u001b[0m \u001b[0mx\u001b[0m \u001b[0;34m=\u001b[0m \u001b[0mSingleton\u001b[0m \u001b[0;34m)\u001b[0m\u001b[0;34m:\u001b[0m\u001b[0;34m\u001b[0m\u001b[0m\n\u001b[1;32m     13\u001b[0m     \u001b[0;32mtry\u001b[0m\u001b[0;34m:\u001b[0m\u001b[0;34m\u001b[0m\u001b[0m\n\u001b[0;32m---> 14\u001b[0;31m         \u001b[0msingle\u001b[0m \u001b[0;34m=\u001b[0m \u001b[0mx\u001b[0m\u001b[0;34m(\u001b[0m\u001b[0;34m)\u001b[0m\u001b[0;34m\u001b[0m\u001b[0m\n\u001b[0m\u001b[1;32m     15\u001b[0m     \u001b[0;32mexcept\u001b[0m \u001b[0mSingleton\u001b[0m \u001b[0;32mas\u001b[0m \u001b[0ms\u001b[0m\u001b[0;34m:\u001b[0m\u001b[0;34m\u001b[0m\u001b[0m\n\u001b[1;32m     16\u001b[0m         \u001b[0msingle\u001b[0m \u001b[0;34m=\u001b[0m \u001b[0ms\u001b[0m\u001b[0;34m\u001b[0m\u001b[0m\n",
      "\u001b[0;32m<ipython-input-8-4c2f2b72d6f7>\u001b[0m in \u001b[0;36m__init__\u001b[0;34m(self)\u001b[0m\n\u001b[1;32m      5\u001b[0m     \u001b[0;32mdef\u001b[0m \u001b[0m__init__\u001b[0m\u001b[0;34m(\u001b[0m \u001b[0mself\u001b[0m \u001b[0;34m)\u001b[0m\u001b[0;34m:\u001b[0m\u001b[0;34m\u001b[0m\u001b[0m\n\u001b[1;32m      6\u001b[0m         \u001b[0;32mif\u001b[0m \u001b[0mSingleton\u001b[0m\u001b[0;34m.\u001b[0m\u001b[0m__single\u001b[0m\u001b[0;34m:\u001b[0m\u001b[0;34m\u001b[0m\u001b[0m\n\u001b[0;32m----> 7\u001b[0;31m             \u001b[0;32mraise\u001b[0m \u001b[0mSingleton\u001b[0m\u001b[0;34m.\u001b[0m\u001b[0m__single\u001b[0m\u001b[0;34m\u001b[0m\u001b[0m\n\u001b[0m\u001b[1;32m      8\u001b[0m         \u001b[0mSingleton\u001b[0m\u001b[0;34m.\u001b[0m\u001b[0m__single\u001b[0m \u001b[0;34m=\u001b[0m \u001b[0mself\u001b[0m\u001b[0;34m\u001b[0m\u001b[0m\n\u001b[1;32m      9\u001b[0m \u001b[0;34m\u001b[0m\u001b[0m\n",
      "\u001b[0;32m<ipython-input-8-4c2f2b72d6f7>\u001b[0m in \u001b[0;36mHandle\u001b[0;34m(x)\u001b[0m\n\u001b[1;32m     12\u001b[0m \u001b[0;32mdef\u001b[0m \u001b[0mHandle\u001b[0m\u001b[0;34m(\u001b[0m \u001b[0mx\u001b[0m \u001b[0;34m=\u001b[0m \u001b[0mSingleton\u001b[0m \u001b[0;34m)\u001b[0m\u001b[0;34m:\u001b[0m\u001b[0;34m\u001b[0m\u001b[0m\n\u001b[1;32m     13\u001b[0m     \u001b[0;32mtry\u001b[0m\u001b[0;34m:\u001b[0m\u001b[0;34m\u001b[0m\u001b[0m\n\u001b[0;32m---> 14\u001b[0;31m         \u001b[0msingle\u001b[0m \u001b[0;34m=\u001b[0m \u001b[0mx\u001b[0m\u001b[0;34m(\u001b[0m\u001b[0;34m)\u001b[0m\u001b[0;34m\u001b[0m\u001b[0m\n\u001b[0m\u001b[1;32m     15\u001b[0m     \u001b[0;32mexcept\u001b[0m \u001b[0mSingleton\u001b[0m \u001b[0;32mas\u001b[0m \u001b[0ms\u001b[0m\u001b[0;34m:\u001b[0m\u001b[0;34m\u001b[0m\u001b[0m\n\u001b[1;32m     16\u001b[0m         \u001b[0msingle\u001b[0m \u001b[0;34m=\u001b[0m \u001b[0ms\u001b[0m\u001b[0;34m\u001b[0m\u001b[0m\n",
      "\u001b[0;32m<ipython-input-8-4c2f2b72d6f7>\u001b[0m in \u001b[0;36m__init__\u001b[0;34m(self)\u001b[0m\n\u001b[1;32m      5\u001b[0m     \u001b[0;32mdef\u001b[0m \u001b[0m__init__\u001b[0m\u001b[0;34m(\u001b[0m \u001b[0mself\u001b[0m \u001b[0;34m)\u001b[0m\u001b[0;34m:\u001b[0m\u001b[0;34m\u001b[0m\u001b[0m\n\u001b[1;32m      6\u001b[0m         \u001b[0;32mif\u001b[0m \u001b[0mSingleton\u001b[0m\u001b[0;34m.\u001b[0m\u001b[0m__single\u001b[0m\u001b[0;34m:\u001b[0m\u001b[0;34m\u001b[0m\u001b[0m\n\u001b[0;32m----> 7\u001b[0;31m             \u001b[0;32mraise\u001b[0m \u001b[0mSingleton\u001b[0m\u001b[0;34m.\u001b[0m\u001b[0m__single\u001b[0m\u001b[0;34m\u001b[0m\u001b[0m\n\u001b[0m\u001b[1;32m      8\u001b[0m         \u001b[0mSingleton\u001b[0m\u001b[0;34m.\u001b[0m\u001b[0m__single\u001b[0m \u001b[0;34m=\u001b[0m \u001b[0mself\u001b[0m\u001b[0;34m\u001b[0m\u001b[0m\n\u001b[1;32m      9\u001b[0m \u001b[0;34m\u001b[0m\u001b[0m\n",
      "\u001b[0;31mChild\u001b[0m: Monty"
     ]
    }
   ],
   "source": [
    "child = Child('ABC') # Error"
   ]
  },
  {
   "cell_type": "markdown",
   "metadata": {},
   "source": [
    "### 2.2 Chain of Responsibility\n",
    "\n",
    "- The chain of Responsibility pattern is to create a system that can serve different requests in a hierarchical manner. \n",
    "\n",
    "- In other words if an object that is a part of the system does not know how to respond to the given request it passes it along the object tree. Each object along the route of the request can take the responsibility and serve the request.\n",
    "\n",
    "<img src='http://i.ytimg.com/vi/BsuhLJb6vo0/maxresdefault.jpg'>"
   ]
  },
  {
   "cell_type": "code",
   "execution_count": 12,
   "metadata": {
    "collapsed": true
   },
   "outputs": [],
   "source": [
    "class Event:\n",
    "    def __init__( self, name ):\n",
    "        self.name = name\n",
    "\n",
    "class Widget:\n",
    "    '''\n",
    "    The idea behind the Command Dispatch pattern is to check at runtime whether the object has a proper method or not.\n",
    "    '''\n",
    "    def __init__( self, parent = None ):\n",
    "        self.__parent = parent\n",
    "    def Handle( self, event ):\n",
    "        handler = 'Handle_' + event.name\n",
    "        if hasattr( self, handler ):\n",
    "            method = getattr( self, handler )\n",
    "            method( event )\n",
    "        elif self.__parent:\n",
    "            self.__parent.Handle( event )\n",
    "        elif hasattr( self, 'HandleDefault' ):\n",
    "            self.HandleDefault( event )    "
   ]
  },
  {
   "cell_type": "markdown",
   "metadata": {},
   "source": [
    "When an event object is passed to Handle method, one of the four things may happen:\n",
    "\n",
    "- Each event has an associated name. If widget has a corresponding method (named Handle_eventname ), it is executed\n",
    "- If the object is not the last one in the chain, it passes the event object to its parent\n",
    "- If the object has a default handler for all kinds of events (HandleDefault method) it is invoked if the object is the last possible handler. Because HandleDefault should always be available only on the end of the chain, it is not necessary or even sensible to have it in the interface of the base class.\n",
    "- The object dismisses the event if it can neither handle or forward it."
   ]
  },
  {
   "cell_type": "code",
   "execution_count": 14,
   "metadata": {},
   "outputs": [],
   "source": [
    "class MainWindow( Widget ):\n",
    "    def Handle_close( self, event ):\n",
    "        print('MainWindow: ' + event.name)\n",
    "    def HandleDefault( self, event ):\n",
    "        print('Default: ' + event.name)\n",
    "        \n",
    "class SendDialog( Widget ):\n",
    "    def Handle_paint( self, event ):\n",
    "        print('SendDialog: ' + event.name)\n",
    "\n",
    "class MsgText( Widget ):\n",
    "    def Handle_down( self, event ):\n",
    "        print('MsgText: ' + event.name)"
   ]
  },
  {
   "cell_type": "code",
   "execution_count": 15,
   "metadata": {
    "collapsed": true
   },
   "outputs": [],
   "source": [
    "# Define hierarchi\n",
    "\n",
    "mw = MainWindow()\n",
    "sd = SendDialog( mw )\n",
    "msg = MsgText( sd )\n",
    "\n",
    "# Define event\n",
    "edown = Event( 'down' )\n",
    "epaint = Event( 'paint' )\n",
    "eodd = Event( 'odd' )"
   ]
  },
  {
   "cell_type": "code",
   "execution_count": 16,
   "metadata": {},
   "outputs": [
    {
     "name": "stdout",
     "output_type": "stream",
     "text": [
      "MsgText: down\n"
     ]
    }
   ],
   "source": [
    "msg.Handle( edown )"
   ]
  },
  {
   "cell_type": "code",
   "execution_count": 17,
   "metadata": {},
   "outputs": [
    {
     "name": "stdout",
     "output_type": "stream",
     "text": [
      "SendDialog: paint\n"
     ]
    }
   ],
   "source": [
    "msg.Handle( epaint )"
   ]
  },
  {
   "cell_type": "code",
   "execution_count": 18,
   "metadata": {},
   "outputs": [
    {
     "name": "stdout",
     "output_type": "stream",
     "text": [
      "Default: odd\n"
     ]
    }
   ],
   "source": [
    "msg.Handle( eodd )"
   ]
  },
  {
   "cell_type": "markdown",
   "metadata": {},
   "source": [
    "### 2.3 Proxy\n",
    "\n",
    "- The Proxy pattern is used when an object has to be shielded from its clients. \n",
    "\n",
    "- There may be a number of reasons for this: reference counting, different levels of access rights, lazy evaluation of the state of the object and so on.\n",
    "\n",
    "- The client does not need to know that it is not accessing the real object (Subject) directly. In other words the proxy substitutes for the real thing.\n",
    "\n",
    "<img src='https://sourcemaking.com/files/v2/content/patterns/Proxy_example1-2x.png'>"
   ]
  },
  {
   "cell_type": "code",
   "execution_count": 68,
   "metadata": {
    "collapsed": true
   },
   "outputs": [],
   "source": [
    "# Real subject\n",
    "\n",
    "class RGB:\n",
    "    def __init__( self, red, green, blue ):\n",
    "        self.__red = red\n",
    "        self.__green = green\n",
    "        self.__blue = blue\n",
    "    def Red( self ):\n",
    "        return self.__red\n",
    "    def Green( self ):\n",
    "        return self.__green\n",
    "    def Blue( self ):\n",
    "        return self.__blue \n"
   ]
  },
  {
   "cell_type": "code",
   "execution_count": 74,
   "metadata": {
    "collapsed": true
   },
   "outputs": [],
   "source": [
    "# Proxy base class, return the same subject itself\n",
    "\n",
    "class Proxy:\n",
    "    def __init__( self, subject ):\n",
    "        self.__subject = subject\n",
    "    def __getattr__( self, name ):\n",
    "        return getattr( self.__subject, name )\n",
    "    def html_str(self):\n",
    "        return 'rgb(%i,%i,%i)'%(self.Red(), self.Green(), self.Blue())\n",
    "    \n",
    "# Hacker\n",
    "\n",
    "class NoBlueProxy( Proxy ):\n",
    "    def Blue( self ):\n",
    "        return 0"
   ]
  },
  {
   "cell_type": "code",
   "execution_count": 75,
   "metadata": {},
   "outputs": [],
   "source": [
    "from IPython.display import HTML\n",
    "rgb = RGB( 100, 192, 240 )"
   ]
  },
  {
   "cell_type": "code",
   "execution_count": 76,
   "metadata": {},
   "outputs": [
    {
     "name": "stdout",
     "output_type": "stream",
     "text": [
      "rgb(100,192,240)\n"
     ]
    },
    {
     "data": {
      "text/html": [
       "<div style=\"display:inline-block;padding:10px;\"><div>RGB</div><div style=\"background-color:rgb(100,192,240);height:20px;width:20px;display:inline-block;\"></div></div>"
      ],
      "text/plain": [
       "<IPython.core.display.HTML object>"
      ]
     },
     "execution_count": 76,
     "metadata": {},
     "output_type": "execute_result"
    }
   ],
   "source": [
    "proxy = Proxy( rgb )\n",
    "print(proxy.html_str())\n",
    "HTML(cl.to_html({'RGB':[proxy.html_str()]}))"
   ]
  },
  {
   "cell_type": "code",
   "execution_count": 78,
   "metadata": {},
   "outputs": [
    {
     "name": "stdout",
     "output_type": "stream",
     "text": [
      "rgb(100,192,0)\n"
     ]
    },
    {
     "data": {
      "text/html": [
       "<div style=\"display:inline-block;padding:10px;\"><div>RGB</div><div style=\"background-color:rgb(100,192,0);height:20px;width:20px;display:inline-block;\"></div></div>"
      ],
      "text/plain": [
       "<IPython.core.display.HTML object>"
      ]
     },
     "execution_count": 78,
     "metadata": {},
     "output_type": "execute_result"
    }
   ],
   "source": [
    "noblue = NoBlueProxy( rgb )\n",
    "print(noblue.html_str())\n",
    "HTML(cl.to_html({'RGB':[noblue.html_str()]}))"
   ]
  },
  {
   "cell_type": "markdown",
   "metadata": {},
   "source": [
    "### 2.4 Bridge Pattern\n",
    "\n",
    "<img src='https://upload.wikimedia.org/wikipedia/commons/thumb/c/cf/Bridge_UML_class_diagram.svg/500px-Bridge_UML_class_diagram.svg.png'>"
   ]
  },
  {
   "cell_type": "code",
   "execution_count": 99,
   "metadata": {},
   "outputs": [
    {
     "name": "stdout",
     "output_type": "stream",
     "text": [
      "UseCase1: \n",
      "Linux!\n",
      "UseCase1: \n",
      "Windows.\n",
      "UseCase2: \n",
      "Linux!\n",
      "UseCase2: \n",
      "Windows.\n"
     ]
    }
   ],
   "source": [
    "class AbstractInterface:\n",
    "    \"\"\" Target interface.\n",
    "    This is the target interface, that clients use.\n",
    "    \"\"\"\n",
    "    def someFunctionality(self):\n",
    "        raise NotImplemented()\n",
    "\n",
    "\n",
    "class Bridge(AbstractInterface):\n",
    "    \"\"\" Bridge class.\n",
    "    \n",
    "    This class forms a bridge between the target\n",
    "    interface and background implementation.\n",
    "    \"\"\"\n",
    "    def __init__(self):\n",
    "        self.__implementation = None\n",
    "\n",
    "\n",
    "class UseCase1(Bridge):\n",
    "    \"\"\" Variant of the target interface.\n",
    "    This is a variant of the target Abstract interface.\n",
    "    It can do something little differently and it can\n",
    "    also use various background implementations through\n",
    "    the bridge.\n",
    "    \"\"\"\n",
    "    def __init__(self, implementation):\n",
    "        self.__implementation = implementation\n",
    "    def someFunctionality(self):\n",
    "        print (\"UseCase1: \",)\n",
    "        self.__implementation.anotherFunctionality()\n",
    "\n",
    "class UseCase2(Bridge):\n",
    "    def __init__(self, implementation):\n",
    "        self.__implementation = implementation\n",
    "    def someFunctionality(self):\n",
    "        print (\"UseCase2: \",)\n",
    "        self.__implementation.anotherFunctionality()\n",
    "\n",
    "class ImplementationInterface:\n",
    "    \"\"\" Interface for the background implementation.\n",
    "    This class defines how the Bridge communicates\n",
    "    with various background implementations.\n",
    "    \"\"\"\n",
    "    def anotherFunctionality(self):\n",
    "        raise NotImplemented\n",
    "\n",
    "class Linux(ImplementationInterface):\n",
    "    \"\"\" Concrete background implementation.\n",
    "    A variant of background implementation, in this\n",
    "    case for Linux!\n",
    "    \"\"\"\n",
    "    def anotherFunctionality(self):\n",
    "        print (\"Linux!\")\n",
    "\n",
    "class Windows(ImplementationInterface):\n",
    "    def anotherFunctionality(self):\n",
    "        print (\"Windows.\")\n",
    "\n",
    "def main():\n",
    "    linux = Linux()\n",
    "    windows = Windows()\n",
    "\n",
    "    # Couple of variants under a couple\n",
    "    # of operating systems.\n",
    "    useCase = UseCase1(linux)\n",
    "    useCase.someFunctionality()\n",
    "\n",
    "    useCase = UseCase1(windows)\n",
    "    useCase.someFunctionality()\n",
    "\n",
    "    useCase = UseCase2(linux)\n",
    "    useCase.someFunctionality()\n",
    "\n",
    "    useCase = UseCase2(windows)\n",
    "    useCase.someFunctionality()\n",
    "\n",
    "if __name__ == \"__main__\":\n",
    "    main()"
   ]
  },
  {
   "cell_type": "markdown",
   "metadata": {},
   "source": [
    "## 3. Virtual Function\n",
    "\n",
    "### 3.1 What's virtual function\n",
    "\n",
    "- A virtual function (virtual method) is a function whose behavior can be overridden within an inheriting class by a function with the same signature. \n",
    "\n",
    "- This concept is an important part of the polymorphism portion of object-oriented programming (OOP).\n",
    "\n",
    "### 3.2 Why do we need it\n",
    "\n",
    "In object-oriented programming, when a derived class inherits from a base class, an object of the derived class may be referred to via a pointer or reference of the base class type instead of the derived class type. If there are base class methods overridden by the derived class, the method actually called by such a reference or pointer can be bound either 'early' (by the compiler), according to the declared type of the pointer or reference, or 'late' (i.e., by the runtime system of the language), according to the actual type of the object referred to.\n",
    "\n",
    "<img src='http://www.studyvilla.com/Images/poly.jpg'>\n",
    "\n",
    "```cpp\n",
    "class Animal {\n",
    "    void /*non-virtual*/ move(void) { \n",
    "        std::cout << \"This animal moves in some way\" << std::endl; \n",
    "    }\n",
    "    virtual void eat(void) {}\n",
    "};\n",
    "\n",
    "// The class \"Animal\" may possess a definition for eat() if desired.\n",
    "class Wolf : public Animal {\n",
    "    // The non virtual function move() is inherited but not overridden\n",
    "    void eat(void) { \n",
    "        std::cout << \"Llamas eat grass!\" << std::endl; \n",
    "    }\n",
    "};\n",
    "```\n",
    "\n",
    "### 3.3 Abstract Class (ABC) / Pure Virtual\n",
    "\n",
    "A pure virtual function or pure virtual method is a virtual function that is required to be implemented by a derived class if the derived class is not abstract. Classes containing pure virtual methods are termed \"abstract\" and $\\textbf{they cannot be instantiated directly}$. A subclass of an abstract class can only be instantiated directly if $\\textbf{all inherited pure virtual methods have been implemented}$ by that class or a parent class. Pure virtual methods typically have a declaration (signature) and no definition (implementation).\n",
    "\n",
    "Although pure virtual methods typically have no implementation in the class that declares them, pure virtual methods in C++ are permitted to contain an implementation in their declaring class, providing default behaviour that a derived class can delegate to, if appropriate.\n",
    "\n",
    "### 3.4 Virtual Destructor\n",
    "\n",
    "- Object-oriented languages typically manage memory allocation and de-allocation automatically when objects are created and destroyed. However, some object-oriented languages allow a custom destructor method to be implemented, if desired. (Python, Java)\n",
    "\n",
    "- If the language in question uses automatic memory management, the custom destructor (generally called a finalizer in this context) that is called is certain to be the appropriate one for the object in question. For example, if an object of type Wolf that inherits Animal is created, and both have custom destructors, the one called will be the one declared in Wolf."
   ]
  },
  {
   "cell_type": "code",
   "execution_count": 12,
   "metadata": {},
   "outputs": [
    {
     "name": "stdout",
     "output_type": "stream",
     "text": [
      "3 born\n",
      "3 died\n"
     ]
    }
   ],
   "source": [
    "class FooType(object):\n",
    "    def __init__(self, id):\n",
    "        self.id = id\n",
    "        print (self.id, 'born')\n",
    "\n",
    "    def __del__(self):\n",
    "        print (self.id, 'died')\n",
    "\n",
    "def test():\n",
    "    ft3 = FooType(3)\n",
    "    \n",
    "test()"
   ]
  },
  {
   "cell_type": "code",
   "execution_count": 97,
   "metadata": {},
   "outputs": [
    {
     "name": "stdout",
     "output_type": "stream",
     "text": [
      "1 base born\n",
      "1 derived died\n"
     ]
    }
   ],
   "source": [
    "class Base(object):\n",
    "    def __init__(self, id):\n",
    "        self.id = id\n",
    "        print (self.id, 'base born')\n",
    "\n",
    "    def __del__(self):\n",
    "        print (self.id, 'base died')\n",
    "        \n",
    "class Derived(Base):\n",
    "    def __del__(self):\n",
    "        print (self.id, 'derived died')\n",
    "\n",
    "def test2():\n",
    "    derived = Derived(1)\n",
    "    \n",
    "test2()"
   ]
  },
  {
   "cell_type": "markdown",
   "metadata": {},
   "source": [
    "- In manual memory management contexts, the situation can be more complex. If an object of type Wolf is created but pointed to by an Animal pointer, and it is this Animal pointer type that is deleted, the destructor called may actually be the one defined for Animal and not the one for Wolf, unless the destructor is virtual. This is particularly the case with C++, where the behaviour is a common source of programming errors.\n",
    "\n",
    "```cpp\n",
    "int main(int argc, char const *argv[])\n",
    "{\n",
    "    Animal* AnimalPtr = new Wolf;\n",
    "    \n",
    "    delete AnimalPtr; \n",
    "    // if the destructor in Animal class is not virtual, then Animal destructor is called, which might be wrong.\n",
    "    // if the destructor in Animal class is virtual, then Wolf and Animal destructor are both called.\n",
    "    \n",
    "\treturn 0;\n",
    "}\n",
    "\n",
    "```"
   ]
  },
  {
   "cell_type": "markdown",
   "metadata": {},
   "source": [
    "## 4. Memory Leak\n",
    "\n",
    "### 4.1 Definition\n",
    "\n",
    "In computer science, a memory leak is a type of resource leak that occurs when a computer program incorrectly manages memory allocations in such a way that memory which is no longer needed is not released. \n",
    "\n",
    "In object-oriented programming, a memory leak may happen when an object is stored in memory but cannot be accessed by the running code. A memory leak has symptoms similar to a number of other problems and generally can only be diagnosed by a programmer with access to the program's source code.\n",
    "\n",
    "<img src='http://www.programcreek.com/wp-content/uploads/2013/10/where-is-memory-leak-650x400.jpeg'>\n",
    "\n",
    "### 4.2 Consequences\n",
    "\n",
    "- A memory leak can diminish the performance of the computer by reducing the amount of available memory. All or part of the system or device stops working correctly, the application fails, or the system slows down vastly due to thrashing.\n",
    "\n",
    "- Memory leaks may not be serious or even detectable by normal means. In modern operating systems, normal memory used by an application is released when the application terminates. This means that a memory leak in a program that only runs for a short time may not be noticed and is rarely serious.\n",
    "\n",
    "### 4.3 Example\n",
    "\n",
    "Pseudocode:\n",
    "\n",
    "```cpp\n",
    "while (button_pressed == true):\n",
    "    floor_number* ptr = new floor_number; // which will be used to remember the floor number\n",
    "    \n",
    "    if (curr_floor == target_floor) // Are we already on the target floor?\n",
    "        return; // if so, nothing to do\n",
    "    else {\n",
    "        while (lift_isIdle == false) {} // wait until the lift is idle\n",
    "        goto_requiredFloor();\n",
    "        delete ptr; // Release the memory we used to remember the floor number\n",
    "    }\n",
    "```\n",
    "\n",
    "A simple example in C:\n",
    "\n",
    "```c\n",
    "#include <stdlib.h>\n",
    "\n",
    "void function_which_allocates(void) {\n",
    "    /* allocate an array of 45 floats */\n",
    "    float *a = malloc(sizeof(float) * 45);\n",
    "\n",
    "    /* additional code making use of 'a' */\n",
    "\n",
    "    /* return to main, having forgotten to free the memory we malloc'd */\n",
    "}\n",
    "\n",
    "int main(void) {\n",
    "    function_which_allocates();\n",
    "\n",
    "    /* the pointer 'a' no longer exists, and therefore cannot be freed,\n",
    "     but the memory is still allocated. a leak has occurred. */\n",
    "}\n",
    "```"
   ]
  }
 ],
 "metadata": {
  "anaconda-cloud": {},
  "kernelspec": {
   "display_name": "Python 3",
   "language": "python",
   "name": "python3"
  },
  "language_info": {
   "codemirror_mode": {
    "name": "ipython",
    "version": 3
   },
   "file_extension": ".py",
   "mimetype": "text/x-python",
   "name": "python",
   "nbconvert_exporter": "python",
   "pygments_lexer": "ipython3",
   "version": "3.6.3"
  }
 },
 "nbformat": 4,
 "nbformat_minor": 1
}
